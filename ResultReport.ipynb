{
 "cells": [
  {
   "cell_type": "code",
   "execution_count": 187,
   "metadata": {},
   "outputs": [
    {
     "name": "stdout",
     "output_type": "stream",
     "text": [
      "Requirement already satisfied: seaborn in /usr/local/lib/python3.9/site-packages (0.12.1)\n",
      "Requirement already satisfied: pandas>=0.25 in /usr/local/lib/python3.9/site-packages (from seaborn) (1.5.1)\n",
      "Requirement already satisfied: numpy>=1.17 in /usr/local/lib/python3.9/site-packages (from seaborn) (1.23.4)\n",
      "Requirement already satisfied: matplotlib!=3.6.1,>=3.1 in /usr/local/lib/python3.9/site-packages (from seaborn) (3.6.2)\n",
      "Requirement already satisfied: python-dateutil>=2.7 in /usr/local/lib/python3.9/site-packages (from matplotlib!=3.6.1,>=3.1->seaborn) (2.8.2)\n",
      "Requirement already satisfied: pillow>=6.2.0 in /usr/local/lib/python3.9/site-packages (from matplotlib!=3.6.1,>=3.1->seaborn) (9.3.0)\n",
      "Requirement already satisfied: fonttools>=4.22.0 in /usr/local/lib/python3.9/site-packages (from matplotlib!=3.6.1,>=3.1->seaborn) (4.38.0)\n",
      "Requirement already satisfied: packaging>=20.0 in /usr/local/lib/python3.9/site-packages (from matplotlib!=3.6.1,>=3.1->seaborn) (21.3)\n",
      "Requirement already satisfied: kiwisolver>=1.0.1 in /usr/local/lib/python3.9/site-packages (from matplotlib!=3.6.1,>=3.1->seaborn) (1.4.4)\n",
      "Requirement already satisfied: cycler>=0.10 in /usr/local/lib/python3.9/site-packages (from matplotlib!=3.6.1,>=3.1->seaborn) (0.11.0)\n",
      "Requirement already satisfied: pyparsing>=2.2.1 in /usr/local/lib/python3.9/site-packages (from matplotlib!=3.6.1,>=3.1->seaborn) (3.0.9)\n",
      "Requirement already satisfied: contourpy>=1.0.1 in /usr/local/lib/python3.9/site-packages (from matplotlib!=3.6.1,>=3.1->seaborn) (1.0.6)\n",
      "Requirement already satisfied: pytz>=2020.1 in /usr/local/lib/python3.9/site-packages (from pandas>=0.25->seaborn) (2022.6)\n",
      "Requirement already satisfied: six>=1.5 in /usr/local/lib/python3.9/site-packages (from python-dateutil>=2.7->matplotlib!=3.6.1,>=3.1->seaborn) (1.16.0)\n",
      "\u001b[33mWARNING: Running pip as the 'root' user can result in broken permissions and conflicting behaviour with the system package manager. It is recommended to use a virtual environment instead: https://pip.pypa.io/warnings/venv\u001b[0m\u001b[33m\n",
      "\u001b[0m"
     ]
    }
   ],
   "source": [
    "!pip install seaborn"
   ]
  },
  {
   "cell_type": "markdown",
   "metadata": {},
   "source": [
    "## State of the art (ROAD, sort base ranking and linear noisy imputation notrain method)"
   ]
  },
  {
   "cell_type": "code",
   "execution_count": 2,
   "metadata": {},
   "outputs": [],
   "source": [
    "noretrain_linear = \"/workspaces/outputs/road/sota/results/noretrain.json\"\n",
    "\n",
    "noretrain_telea = \"/workspaces/outputs/road/sort_telea/results/noretrain.json\"\n",
    "noretrain_ns = \"/workspaces/outputs/road/sort_ns/results/noretrain.json\"\n",
    "notretrain_threshold_linear = \"/workspaces/outputs/road/threshold_linear/results/noretrain.json\"\n"
   ]
  },
  {
   "cell_type": "code",
   "execution_count": 3,
   "metadata": {},
   "outputs": [],
   "source": [
    "import json\n",
    "import pandas as pd\n",
    "import numpy as np"
   ]
  },
  {
   "cell_type": "code",
   "execution_count": 4,
   "metadata": {},
   "outputs": [],
   "source": [
    "with open(noretrain_linear) as json_file:\n",
    "    noretrain_linear = json.load(json_file)\n"
   ]
  },
  {
   "cell_type": "code",
   "execution_count": 5,
   "metadata": {},
   "outputs": [],
   "source": [
    "with open(noretrain_telea) as json_file:\n",
    "    noretrain_telea = json.load(json_file)\n",
    "\n"
   ]
  },
  {
   "cell_type": "code",
   "execution_count": 6,
   "metadata": {},
   "outputs": [],
   "source": [
    "with open(notretrain_threshold_linear) as json_file:\n",
    "    notretrain_threshold_linear = json.load(json_file)"
   ]
  },
  {
   "cell_type": "code",
   "execution_count": 9,
   "metadata": {},
   "outputs": [],
   "source": [
    "with open(noretrain_ns) as json_file:\n",
    "    noretrain_ns = json.load(json_file)"
   ]
  },
  {
   "cell_type": "code",
   "execution_count": 7,
   "metadata": {},
   "outputs": [],
   "source": [
    "def averaging_accuracy(dict_result):\n",
    "    import copy\n",
    "    \n",
    "    dictionary = copy.deepcopy(dict_result)\n",
    "    for method in dictionary['imputations']:\n",
    "        for key_m, value_m in dictionary[method].items():\n",
    "            for key_sb, value_ac in value_m.items():\n",
    "                for key_f, value_f in  value_ac.items():\n",
    "                    for key_p, value_ar in value_f.items():\n",
    "                        value_f[key_p] = sum(value_ar)/len(value_ar)\n",
    "    return dictionary"
   ]
  },
  {
   "cell_type": "code",
   "execution_count": 11,
   "metadata": {},
   "outputs": [
    {
     "ename": "NameError",
     "evalue": "name 'averaged_accuracy' is not defined",
     "output_type": "error",
     "traceback": [
      "\u001b[0;31m---------------------------------------------------------------------------\u001b[0m",
      "\u001b[0;31mNameError\u001b[0m                                 Traceback (most recent call last)",
      "Cell \u001b[0;32mIn [11], line 4\u001b[0m\n\u001b[1;32m      2\u001b[0m averaged_accuarcy_telea \u001b[39m=\u001b[39m averaging_accuracy(noretrain_telea)\n\u001b[1;32m      3\u001b[0m averaged_accuracy_ns \u001b[39m=\u001b[39m  averaging_accuracy(noretrain_ns)\n\u001b[0;32m----> 4\u001b[0m averaged_accuracy_threshold_linear \u001b[39m=\u001b[39m averaged_accuracy(notretrain_threshold_linear)\n",
      "\u001b[0;31mNameError\u001b[0m: name 'averaged_accuracy' is not defined"
     ]
    }
   ],
   "source": [
    "averaged_accuarcy_linear = averaging_accuracy(noretrain_linear)\n",
    "averaged_accuarcy_telea = averaging_accuracy(noretrain_telea)\n",
    "averaged_accuracy_ns =  averaging_accuracy(noretrain_ns)\n",
    "averaged_accuracy_threshold_linear = averaging_accuracy(notretrain_threshold_linear)"
   ]
  },
  {
   "cell_type": "code",
   "execution_count": 352,
   "metadata": {},
   "outputs": [],
   "source": [
    "def plot_consistancy( data_dict, appraoch=\"linear\", morf=True, path=None):\n",
    "    import seaborn as sns\n",
    "    import copy\n",
    "    if morf:\n",
    "        method = 'MoRF'\n",
    "    else:\n",
    "        method ='LeRF'\n",
    "    printable_data_dict = copy.deepcopy(data_dict)\n",
    "    new_dict = {}\n",
    "    new_dict['x_axis'] = printable_data_dict[\"percentages\"]\n",
    "    for key_m,  val_m in printable_data_dict[appraoch].items():\n",
    "        for key_var, val_var in val_m.items():\n",
    "            if not morf:\n",
    "                accs = val_var['lerf']\n",
    "                l = list(accs.values())\n",
    "                l.reverse()\n",
    "                new_dict[f\"{key_m}-{key_var}\"] = l\n",
    "            else:\n",
    "                accs = val_var['morf']\n",
    "                new_dict[f\"{key_m}-{key_var}\"] = list(accs.values())\n",
    "                 \n",
    "\n",
    "    import seaborn as sns\n",
    "    sns.set_theme(style=\"whitegrid\")\n",
    "\n",
    "    data = pd.DataFrame.from_dict(new_dict)\n",
    "    data = data.set_index('x_axis')\n",
    "\n",
    "    ax = sns.lineplot(data=data, palette=\"tab10\", linewidth=2.5)\n",
    "    ax.set(ylim=(0.0, 1.0))\n",
    "    ax.set(xlim=(0.1, 0.9))\n",
    "    ax.set(xlabel=f'% romoved {method}', ylabel='Accuracy')\n",
    "    ax.figure.savefig(f'{path}/{appraoch}-{method}.png')\n",
    "    ax.figure.clf()\n",
    "    \n",
    "\n",
    "from scipy.stats import spearmanr\n",
    "def calculate_sperman_rank(accuracy_result, method = \"telea\", morf=True):\n",
    "    ranking = {}\n",
    "    for key_m,  val_m in accuracy_result[method].items():\n",
    "        for key_var, val_var in val_m.items():\n",
    "            if morf:\n",
    "                res = np.array(list(val_var[\"morf\"].values()))\n",
    "                per = list(val_var[\"morf\"].keys())\n",
    "                per = 1 - np.array([float(x) for x in per])\n",
    "            else:\n",
    "                res =  list(val_var[\"lerf\"].values())\n",
    "                res.reverse()\n",
    "                res = 1 - np.array(res)\n",
    "                per = list(val_var[\"lerf\"].keys())\n",
    "                \n",
    "                per = [float(x) for x in per]\n",
    "                \n",
    "            score = spearmanr(per, res).correlation\n",
    "            ranking[f\"{key_m}-{key_var}\"] = score\n",
    "    ranking = {k: v for k, v in sorted(ranking.items(),  key=lambda item: item[1])}\n",
    "    \n",
    "    return ranking\n",
    "\n"
   ]
  },
  {
   "cell_type": "code",
   "execution_count": 322,
   "metadata": {},
   "outputs": [],
   "source": [
    "def calculate_spearman_morf_lerf(accuracy_result, method = \"telea\"):\n",
    "    scores =[]\n",
    "    for key_m,  val_m in accuracy_result[method].items():\n",
    "        for key_var, val_var in val_m.items():\n",
    "                morf = list(val_var[\"morf\"].values())\n",
    "                lerf =  list(val_var[\"lerf\"].values())\n",
    "                lerf.reverse()\n",
    "                score = spearmanr(morf, lerf).correlation\n",
    "                scores.append(score)\n",
    "    return scores\n"
   ]
  },
  {
   "cell_type": "code",
   "execution_count": 353,
   "metadata": {},
   "outputs": [
    {
     "data": {
      "text/plain": [
       "<Figure size 640x480 with 0 Axes>"
      ]
     },
     "metadata": {},
     "output_type": "display_data"
    }
   ],
   "source": [
    "\n",
    "\n",
    "plot_consistancy(averaged_accuarcy_linear, morf=True, appraoch=\"linear\", path=f'/workspaces/outputs/road/sota/plots')\n",
    "plot_consistancy(averaged_accuarcy_linear, morf=False, appraoch=\"linear\", path=f'/workspaces/outputs/road/sota/plots')"
   ]
  },
  {
   "cell_type": "markdown",
   "metadata": {},
   "source": [
    "## Sort telea\n"
   ]
  },
  {
   "cell_type": "code",
   "execution_count": 354,
   "metadata": {},
   "outputs": [
    {
     "data": {
      "text/plain": [
       "<Figure size 640x480 with 0 Axes>"
      ]
     },
     "metadata": {},
     "output_type": "display_data"
    }
   ],
   "source": [
    "plot_consistancy(averaged_accuarcy_telea, appraoch='telea', morf=True, path=f'/workspaces/outputs/road/sort_telea/plots')\n",
    "\n",
    "plot_consistancy(averaged_accuarcy_telea, appraoch='telea', morf=True, path=f'/workspaces/outputs/road/sort_telea/plots')"
   ]
  },
  {
   "cell_type": "markdown",
   "metadata": {},
   "source": [
    "## Sort NS"
   ]
  },
  {
   "cell_type": "code",
   "execution_count": 356,
   "metadata": {},
   "outputs": [
    {
     "data": {
      "text/plain": [
       "<Figure size 640x480 with 0 Axes>"
      ]
     },
     "metadata": {},
     "output_type": "display_data"
    }
   ],
   "source": [
    "plot_consistancy(averaged_accuracy_ns, morf=False, appraoch=\"ns\", path=f'/workspaces/outputs/road/sort_ns/plots')\n",
    "plot_consistancy(averaged_accuracy_ns, morf=True, appraoch=\"ns\", path=f'/workspaces/outputs/road/sort_ns/plots')"
   ]
  },
  {
   "cell_type": "markdown",
   "metadata": {},
   "source": [
    "## Spearman correlation"
   ]
  },
  {
   "cell_type": "code",
   "execution_count": 334,
   "metadata": {},
   "outputs": [
    {
     "name": "stdout",
     "output_type": "stream",
     "text": [
      "{'ig-base': 0.9500000000000001, 'ig-sg': 1.0, 'ig-sq': 1.0, 'ig-var': 1.0}\n",
      "{'ig-base': 1.0, 'ig-sg': 1.0, 'ig-sq': 1.0, 'ig-var': 1.0}\n"
     ]
    }
   ],
   "source": [
    "ranking = calculate_sperman_rank(averaged_accuarcy_linear, method='linear', morf=False)\n",
    "print(ranking)\n",
    "ranking = calculate_sperman_rank(averaged_accuarcy_linear, method='linear', morf=True)\n",
    "print(ranking)"
   ]
  },
  {
   "cell_type": "code",
   "execution_count": 333,
   "metadata": {},
   "outputs": [
    {
     "name": "stdout",
     "output_type": "stream",
     "text": [
      "{'ig-base': 1.0, 'ig-sg': 1.0, 'ig-sq': 1.0, 'ig-var': 1.0}\n",
      "{'ig-base': 1.0, 'ig-sg': 1.0, 'ig-sq': 1.0, 'ig-var': 1.0}\n"
     ]
    }
   ],
   "source": [
    "ranking = calculate_sperman_rank(averaged_accuarcy_telea, method='telea', morf=False)\n",
    "print(ranking)\n",
    "ranking = calculate_sperman_rank(averaged_accuarcy_telea, method='telea', morf=True)\n",
    "print(ranking)"
   ]
  },
  {
   "cell_type": "code",
   "execution_count": 357,
   "metadata": {},
   "outputs": [
    {
     "name": "stdout",
     "output_type": "stream",
     "text": [
      "{'ig-base': 0.9500000000000001, 'ig-sg': 0.9833333333333333, 'ig-sq': 1.0, 'ig-var': 1.0}\n",
      "{'ig-base': 1.0, 'ig-sg': 1.0, 'ig-sq': 1.0, 'ig-var': 1.0}\n"
     ]
    }
   ],
   "source": [
    "ranking = calculate_sperman_rank(averaged_accuracy_ns, method='ns', morf=False)\n",
    "print(ranking)\n",
    "ranking = calculate_sperman_rank(averaged_accuracy_ns, method='ns', morf=True)\n",
    "print(ranking)"
   ]
  },
  {
   "cell_type": "code",
   "execution_count": 1,
   "metadata": {},
   "outputs": [
    {
     "ename": "NameError",
     "evalue": "name 'calculate_spearman_morf_lerf' is not defined",
     "output_type": "error",
     "traceback": [
      "\u001b[0;31m---------------------------------------------------------------------------\u001b[0m",
      "\u001b[0;31mNameError\u001b[0m                                 Traceback (most recent call last)",
      "Cell \u001b[0;32mIn [1], line 1\u001b[0m\n\u001b[0;32m----> 1\u001b[0m scores \u001b[39m=\u001b[39m calculate_spearman_morf_lerf(averaged_accuarcy_telea, method\u001b[39m=\u001b[39m\u001b[39m'\u001b[39m\u001b[39mtelea\u001b[39m\u001b[39m'\u001b[39m)\n\u001b[1;32m      3\u001b[0m \u001b[39mprint\u001b[39m(scores)\n\u001b[1;32m      4\u001b[0m scores \u001b[39m=\u001b[39m calculate_spearman_morf_lerf(averaged_accuarcy_linear, method\u001b[39m=\u001b[39m\u001b[39m'\u001b[39m\u001b[39mlinear\u001b[39m\u001b[39m'\u001b[39m)\n",
      "\u001b[0;31mNameError\u001b[0m: name 'calculate_spearman_morf_lerf' is not defined"
     ]
    }
   ],
   "source": [
    "scores = calculate_spearman_morf_lerf(averaged_accuarcy_telea, method='telea')\n",
    "\n",
    "print(scores)\n",
    "scores = calculate_spearman_morf_lerf(averaged_accuarcy_linear, method='linear')\n",
    "print(scores)\n",
    "\n",
    "scores = calculate_spearman_morf_lerf(averaged_accuracy_ns, method='ns')\n",
    "print(scores)\n",
    "\n"
   ]
  }
 ],
 "metadata": {
  "kernelspec": {
   "display_name": "Python 3.9.15 64-bit",
   "language": "python",
   "name": "python3"
  },
  "language_info": {
   "codemirror_mode": {
    "name": "ipython",
    "version": 3
   },
   "file_extension": ".py",
   "mimetype": "text/x-python",
   "name": "python",
   "nbconvert_exporter": "python",
   "pygments_lexer": "ipython3",
   "version": "3.9.15"
  },
  "orig_nbformat": 4,
  "vscode": {
   "interpreter": {
    "hash": "949777d72b0d2535278d3dc13498b2535136f6dfe0678499012e853ee9abcab1"
   }
  }
 },
 "nbformat": 4,
 "nbformat_minor": 2
}
