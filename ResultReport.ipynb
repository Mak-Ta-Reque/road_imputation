{
 "cells": [
  {
   "cell_type": "code",
   "execution_count": 187,
   "metadata": {},
   "outputs": [
    {
     "name": "stdout",
     "output_type": "stream",
     "text": [
      "Requirement already satisfied: seaborn in /usr/local/lib/python3.9/site-packages (0.12.1)\n",
      "Requirement already satisfied: pandas>=0.25 in /usr/local/lib/python3.9/site-packages (from seaborn) (1.5.1)\n",
      "Requirement already satisfied: numpy>=1.17 in /usr/local/lib/python3.9/site-packages (from seaborn) (1.23.4)\n",
      "Requirement already satisfied: matplotlib!=3.6.1,>=3.1 in /usr/local/lib/python3.9/site-packages (from seaborn) (3.6.2)\n",
      "Requirement already satisfied: python-dateutil>=2.7 in /usr/local/lib/python3.9/site-packages (from matplotlib!=3.6.1,>=3.1->seaborn) (2.8.2)\n",
      "Requirement already satisfied: pillow>=6.2.0 in /usr/local/lib/python3.9/site-packages (from matplotlib!=3.6.1,>=3.1->seaborn) (9.3.0)\n",
      "Requirement already satisfied: fonttools>=4.22.0 in /usr/local/lib/python3.9/site-packages (from matplotlib!=3.6.1,>=3.1->seaborn) (4.38.0)\n",
      "Requirement already satisfied: packaging>=20.0 in /usr/local/lib/python3.9/site-packages (from matplotlib!=3.6.1,>=3.1->seaborn) (21.3)\n",
      "Requirement already satisfied: kiwisolver>=1.0.1 in /usr/local/lib/python3.9/site-packages (from matplotlib!=3.6.1,>=3.1->seaborn) (1.4.4)\n",
      "Requirement already satisfied: cycler>=0.10 in /usr/local/lib/python3.9/site-packages (from matplotlib!=3.6.1,>=3.1->seaborn) (0.11.0)\n",
      "Requirement already satisfied: pyparsing>=2.2.1 in /usr/local/lib/python3.9/site-packages (from matplotlib!=3.6.1,>=3.1->seaborn) (3.0.9)\n",
      "Requirement already satisfied: contourpy>=1.0.1 in /usr/local/lib/python3.9/site-packages (from matplotlib!=3.6.1,>=3.1->seaborn) (1.0.6)\n",
      "Requirement already satisfied: pytz>=2020.1 in /usr/local/lib/python3.9/site-packages (from pandas>=0.25->seaborn) (2022.6)\n",
      "Requirement already satisfied: six>=1.5 in /usr/local/lib/python3.9/site-packages (from python-dateutil>=2.7->matplotlib!=3.6.1,>=3.1->seaborn) (1.16.0)\n",
      "\u001b[33mWARNING: Running pip as the 'root' user can result in broken permissions and conflicting behaviour with the system package manager. It is recommended to use a virtual environment instead: https://pip.pypa.io/warnings/venv\u001b[0m\u001b[33m\n",
      "\u001b[0m"
     ]
    }
   ],
   "source": [
    "!pip install seaborn"
   ]
  },
  {
   "cell_type": "markdown",
   "metadata": {},
   "source": [
    "## State of the art (ROAD, sort base ranking and linear noisy imputation notrain method)"
   ]
  },
  {
   "cell_type": "code",
   "execution_count": 272,
   "metadata": {},
   "outputs": [],
   "source": [
    "noretrain_linear = \"/workspaces/outputs/road/sota/results/noretrain.json\"\n",
    "\n",
    "noretrain_telea = \"/workspaces/outputs/road/sort_telea/results/noretrain.json\"\n",
    "noretrain_ns = \"/workspaces/outputs/road/sort_ns/results/noretrain.json\""
   ]
  },
  {
   "cell_type": "code",
   "execution_count": 273,
   "metadata": {},
   "outputs": [],
   "source": [
    "import json\n",
    "import pandas as pd\n",
    "import numpy as np"
   ]
  },
  {
   "cell_type": "code",
   "execution_count": 274,
   "metadata": {},
   "outputs": [],
   "source": [
    "with open(noretrain_linear) as json_file:\n",
    "    noretrain_linear = json.load(json_file)\n"
   ]
  },
  {
   "cell_type": "code",
   "execution_count": 275,
   "metadata": {},
   "outputs": [],
   "source": [
    "with open(noretrain_telea) as json_file:\n",
    "    noretrain_telea = json.load(json_file)\n",
    "\n"
   ]
  },
  {
   "cell_type": "code",
   "execution_count": 277,
   "metadata": {},
   "outputs": [],
   "source": [
    "def averaging_accuracy(dict_result):\n",
    "    import copy\n",
    "    \n",
    "    dictionary = copy.deepcopy(dict_result)\n",
    "    for method in dictionary['imputations']:\n",
    "        for key_m, value_m in dictionary[method].items():\n",
    "            for key_sb, value_ac in value_m.items():\n",
    "                for key_f, value_f in  value_ac.items():\n",
    "                    for key_p, value_ar in value_f.items():\n",
    "                        value_f[key_p] = sum(value_ar)/len(value_ar)\n",
    "    return dictionary"
   ]
  },
  {
   "cell_type": "code",
   "execution_count": 286,
   "metadata": {},
   "outputs": [],
   "source": [
    "#averaged_accuarcy_linear = averaging_accuracy(noretrain_linear)\n",
    "averaged_accuarcy_telea = averaging_accuracy(noretrain_telea)\n",
    "averaged_accuracy_ns =  averaging_accuracy(noretrain_ns)"
   ]
  },
  {
   "cell_type": "code",
   "execution_count": 301,
   "metadata": {},
   "outputs": [],
   "source": [
    "def plot_consistancy( data_dict, appraoch=\"linear\", morf=True, path=None):\n",
    "    import seaborn as sns\n",
    "    import copy\n",
    "    if morf:\n",
    "        method = 'MoRF'\n",
    "    else:\n",
    "        method ='LeRF'\n",
    "    printable_data_dict = copy.deepcopy(data_dict)\n",
    "    new_dict = {}\n",
    "    new_dict['x_axis'] = printable_data_dict[\"percentages\"]\n",
    "    for key_m,  val_m in printable_data_dict[appraoch].items():\n",
    "        for key_var, val_var in val_m.items():\n",
    "            if not morf:\n",
    "                accs = val_var['lerf']\n",
    "                l = list(accs.values())\n",
    "                l.reverse()\n",
    "                new_dict[f\"{key_m}-{key_var}\"] = l\n",
    "            else:\n",
    "                accs = val_var['morf']\n",
    "                new_dict[f\"{key_m}-{key_var}\"] = list(accs.values())\n",
    "                 \n",
    "\n",
    "    import seaborn as sns\n",
    "    sns.set_theme(style=\"whitegrid\")\n",
    "\n",
    "    data = pd.DataFrame.from_dict(new_dict)\n",
    "    data = data.set_index('x_axis')\n",
    "\n",
    "    ax = sns.lineplot(data=data, palette=\"tab10\", linewidth=2.5)\n",
    "    ax.set(ylim=(0.0, 1.0))\n",
    "    ax.set(xlim=(0.1, 0.9))\n",
    "    ax.set(xlabel=f'% romoved {method}', ylabel='Accuracy')\n",
    "    ax.figure.savefig(f'{path}/{appraoch}-{method}.png')\n",
    "    ax.figure.clf()\n",
    "    \n",
    "\n",
    "from scipy.stats import spearmanr\n",
    "def calculate_sperman_rank(accuracy_result, method = \"telea\", morf=True):\n",
    "    ranking = {}\n",
    "    for key_m,  val_m in accuracy_result[method].items():\n",
    "        for key_var, val_var in val_m.items():\n",
    "            if morf:\n",
    "                res = np.array(list(val_var[\"morf\"].values()))\n",
    "                per = list(val_var[\"morf\"].keys())\n",
    "                per = 1 - np.array([float(x) for x in per])\n",
    "            else:\n",
    "                res =  list(val_var[\"lerf\"].values())\n",
    "                res.reverse()\n",
    "                res = 1 - np.array(res)\n",
    "                per = list(val_var[\"lerf\"].keys())\n",
    "                \n",
    "                per = [float(x) for x in per]\n",
    "                \n",
    "            score = spearmanr(per, res).correlation\n",
    "            ranking[f\"{key_m}-{key_var}\"] = score\n",
    "    ranking = {k: v for k, v in sorted(ranking.items(), key=lambda item: item[1])}\n",
    "    \n",
    "    return ranking\n",
    "\n"
   ]
  },
  {
   "cell_type": "code",
   "execution_count": 309,
   "metadata": {},
   "outputs": [],
   "source": [
    "def calculate_spearman_morf_lerf(accuracy_result, method = \"telea\"):\n",
    "    scores =[]\n",
    "    for key_m,  val_m in accuracy_result[method].items():\n",
    "        for key_var, val_var in val_m.items():\n",
    "                morf = list(val_var[\"morf\"].values())\n",
    "                lerf =  list(val_var[\"lerf\"].values())\n",
    "                lerf.reverse()\n",
    "                score = spearmanr(morf, lerf).correlation\n",
    "                print(\"morf\", morf)\n",
    "                print(\"lerf\", lerf)\n",
    "                scores.append(score)\n",
    "    return scores\n"
   ]
  },
  {
   "cell_type": "code",
   "execution_count": 303,
   "metadata": {},
   "outputs": [
    {
     "data": {
      "text/plain": [
       "<Figure size 640x480 with 0 Axes>"
      ]
     },
     "metadata": {},
     "output_type": "display_data"
    }
   ],
   "source": [
    "#plot_consistancy(averaged_accuracy_ns, morf=False, appraoch=\"ns\", path=f'/workspaces/outputs/road/sota/plots')\n",
    "\n",
    "plot_consistancy(averaged_accuracy_ns, morf=True, appraoch=\"ns\", path=f'/workspaces/outputs/road/sort_ns/plots')"
   ]
  },
  {
   "cell_type": "markdown",
   "metadata": {},
   "source": [
    "## Sort telea\n"
   ]
  },
  {
   "cell_type": "code",
   "execution_count": 304,
   "metadata": {},
   "outputs": [
    {
     "data": {
      "text/plain": [
       "<Figure size 640x480 with 0 Axes>"
      ]
     },
     "metadata": {},
     "output_type": "display_data"
    }
   ],
   "source": [
    "plot_consistancy(averaged_accuarcy_telea, appraoch='telea', morf=True, path=f'/workspaces/outputs/road/sort_telea/plots')\n",
    "\n",
    "plot_consistancy(averaged_accuarcy_telea, appraoch='telea', morf=True, path=f'/workspaces/outputs/road/sort_telea/plots')"
   ]
  },
  {
   "cell_type": "markdown",
   "metadata": {},
   "source": [
    "## Spearman correlation"
   ]
  },
  {
   "cell_type": "code",
   "execution_count": 305,
   "metadata": {},
   "outputs": [
    {
     "name": "stdout",
     "output_type": "stream",
     "text": [
      "{'ig-base': 1.0, 'ig-sg': 1.0, 'ig-sq': 1.0, 'ig-var': 1.0}\n",
      "{'ig-base': 1.0, 'ig-sg': 1.0, 'ig-sq': 1.0, 'ig-var': 1.0}\n"
     ]
    }
   ],
   "source": [
    "ranking = calculate_sperman_rank(averaged_accuarcy_telea, method='telea', morf=False)\n",
    "print(ranking)\n",
    "ranking = calculate_sperman_rank(averaged_accuracy_ns, method='ns', morf=True)\n",
    "print(ranking)"
   ]
  },
  {
   "cell_type": "code",
   "execution_count": 310,
   "metadata": {},
   "outputs": [
    {
     "name": "stdout",
     "output_type": "stream",
     "text": [
      "morf [0.6891600131988526, 0.618779993057251, 0.5682000041007995, 0.5281599998474121, 0.49991999864578246, 0.43948000073432925, 0.31716000437736513]\n",
      "lerf [0.8167399883270263, 0.814900004863739, 0.7916000127792359, 0.7779600024223328, 0.7434399962425232, 0.6636199951171875, 0.4818999946117401]\n",
      "morf [0.6395000100135804, 0.5505000114440918, 0.4944200038909912, 0.454940003156662, 0.4256600081920624, 0.3770400047302246, 0.27700000405311587]\n",
      "lerf [0.8229199886322022, 0.8170599937438965, 0.8049599885940552, 0.7942999958992004, 0.7700399994850159, 0.7049200057983398, 0.5195199966430664]\n",
      "morf [0.7293400049209595, 0.6584599852561951, 0.578980004787445, 0.48871999979019165, 0.4073199927806854, 0.285479998588562, 0.2092600017786026]\n",
      "lerf [0.790500009059906, 0.7714399933815003, 0.7256199955940247, 0.6800600051879883, 0.6126999974250793, 0.49727999567985537, 0.32896000146865845]\n",
      "morf [0.732099997997284, 0.6488399982452393, 0.5609600067138671, 0.47360000014305115, 0.38816000819206237, 0.2687000036239624, 0.21292000114917756]\n",
      "lerf [0.7909599900245666, 0.7670199990272522, 0.7067400097846985, 0.6431599974632263, 0.5546000003814697, 0.42911999821662905, 0.27913999557495117]\n",
      "[1.0, 1.0, 1.0, 1.0]\n"
     ]
    }
   ],
   "source": [
    "scores = calculate_spearman_morf_lerf(averaged_accuarcy_telea)\n",
    "print(scores)"
   ]
  }
 ],
 "metadata": {
  "kernelspec": {
   "display_name": "Python 3.9.15 64-bit",
   "language": "python",
   "name": "python3"
  },
  "language_info": {
   "codemirror_mode": {
    "name": "ipython",
    "version": 3
   },
   "file_extension": ".py",
   "mimetype": "text/x-python",
   "name": "python",
   "nbconvert_exporter": "python",
   "pygments_lexer": "ipython3",
   "version": "3.9.15"
  },
  "orig_nbformat": 4,
  "vscode": {
   "interpreter": {
    "hash": "949777d72b0d2535278d3dc13498b2535136f6dfe0678499012e853ee9abcab1"
   }
  }
 },
 "nbformat": 4,
 "nbformat_minor": 2
}
